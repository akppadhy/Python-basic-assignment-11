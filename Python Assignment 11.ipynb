{
 "cells": [
  {
   "cell_type": "code",
   "execution_count": null,
   "id": "94ef8dbd-7190-4234-a42c-cf1e7f8c5177",
   "metadata": {},
   "outputs": [],
   "source": [
    "#1. Create an assert statement that throws an AssertionError if the variable spam is a negative integer.\n",
    "\n",
    "Ans.  The assert statement is used to continue the execute if the given condition evaluates to True. \n",
    "If the assert condition evaluates to False, then it raises the AssertionError exception with the specified error message."
   ]
  },
  {
   "cell_type": "code",
   "execution_count": 1,
   "id": "84f8b8fd-68e4-4a9a-863e-124f4ff62618",
   "metadata": {},
   "outputs": [
    {
     "ename": "AssertionError",
     "evalue": "The spam variable is is a negative integer.",
     "output_type": "error",
     "traceback": [
      "\u001b[0;31m---------------------------------------------------------------------------\u001b[0m",
      "\u001b[0;31mAssertionError\u001b[0m                            Traceback (most recent call last)",
      "Cell \u001b[0;32mIn [1], line 2\u001b[0m\n\u001b[1;32m      1\u001b[0m spam \u001b[38;5;241m=\u001b[39m \u001b[38;5;241m-\u001b[39m\u001b[38;5;241m55\u001b[39m\n\u001b[0;32m----> 2\u001b[0m \u001b[38;5;28;01massert\u001b[39;00m spam \u001b[38;5;241m>\u001b[39m \u001b[38;5;241m0\u001b[39m, \u001b[38;5;124m'\u001b[39m\u001b[38;5;124mThe spam variable is is a negative integer.\u001b[39m\u001b[38;5;124m'\u001b[39m\n",
      "\u001b[0;31mAssertionError\u001b[0m: The spam variable is is a negative integer."
     ]
    }
   ],
   "source": [
    "spam = -55\n",
    "assert spam > 0, 'The spam variable is is a negative integer.'"
   ]
  },
  {
   "cell_type": "code",
   "execution_count": 2,
   "id": "26e7291d-0a54-4922-b12c-03239241b354",
   "metadata": {},
   "outputs": [
    {
     "ename": "AssertionError",
     "evalue": "The eggs and bacon variables are the same!",
     "output_type": "error",
     "traceback": [
      "\u001b[0;31m---------------------------------------------------------------------------\u001b[0m",
      "\u001b[0;31mAssertionError\u001b[0m                            Traceback (most recent call last)",
      "Cell \u001b[0;32mIn [2], line 7\u001b[0m\n\u001b[1;32m      4\u001b[0m eggs \u001b[38;5;241m=\u001b[39m \u001b[38;5;124m'\u001b[39m\u001b[38;5;124mhello\u001b[39m\u001b[38;5;124m'\u001b[39m\n\u001b[1;32m      5\u001b[0m bacon \u001b[38;5;241m=\u001b[39m \u001b[38;5;124m'\u001b[39m\u001b[38;5;124mHello\u001b[39m\u001b[38;5;124m'\u001b[39m\n\u001b[0;32m----> 7\u001b[0m \u001b[38;5;28;01massert\u001b[39;00m eggs\u001b[38;5;241m.\u001b[39mlower() \u001b[38;5;241m!=\u001b[39m bacon\u001b[38;5;241m.\u001b[39mlower(), \u001b[38;5;124m'\u001b[39m\u001b[38;5;124mThe eggs and bacon variables are the same!\u001b[39m\u001b[38;5;124m'\u001b[39m \n\u001b[1;32m      8\u001b[0m \u001b[38;5;28;01massert\u001b[39;00m eggs\u001b[38;5;241m.\u001b[39mupper() \u001b[38;5;241m!=\u001b[39m bacon\u001b[38;5;241m.\u001b[39mupper(), \u001b[38;5;124m'\u001b[39m\u001b[38;5;124mThe eggs and bacon variables are the same!\u001b[39m\u001b[38;5;124m'\u001b[39m\n",
      "\u001b[0;31mAssertionError\u001b[0m: The eggs and bacon variables are the same!"
     ]
    }
   ],
   "source": [
    "#2. Write an assert statement that triggers an AssertionError if the variables eggs and bacon contain strings that are the same as each other, \n",
    "#even if their cases are different (that is, 'hello' and 'hello' are considered the same, and 'goodbye' and 'GOODbye' are also considered the same).\n",
    "\n",
    "eggs = 'hello'\n",
    "bacon = 'Hello'\n",
    "\n",
    "assert eggs.lower() != bacon.lower(), 'The eggs and bacon variables are the same!' \n",
    "assert eggs.upper() != bacon.upper(), 'The eggs and bacon variables are the same!'"
   ]
  },
  {
   "cell_type": "code",
   "execution_count": null,
   "id": "731018b2-ee97-439d-a3a7-434b91ae26b7",
   "metadata": {},
   "outputs": [],
   "source": [
    "#3. Create an assert statement that throws an AssertionError every time.\n",
    "\n",
    "Ans. assert False, 'This assertion always triggers.'"
   ]
  },
  {
   "cell_type": "code",
   "execution_count": 6,
   "id": "147c297a-9c47-41cb-ad8c-9ff733289855",
   "metadata": {},
   "outputs": [
    {
     "ename": "AssertionError",
     "evalue": "",
     "output_type": "error",
     "traceback": [
      "\u001b[0;31m---------------------------------------------------------------------------\u001b[0m",
      "\u001b[0;31mAssertionError\u001b[0m                            Traceback (most recent call last)",
      "Cell \u001b[0;32mIn [6], line 1\u001b[0m\n\u001b[0;32m----> 1\u001b[0m \u001b[38;5;28;01massert\u001b[39;00m \u001b[38;5;28;01mFalse\u001b[39;00m\n",
      "\u001b[0;31mAssertionError\u001b[0m: "
     ]
    }
   ],
   "source": [
    "assert False\n"
   ]
  },
  {
   "cell_type": "code",
   "execution_count": null,
   "id": "1086d2c6-abc8-46cb-8d20-9c2941f2b14b",
   "metadata": {},
   "outputs": [],
   "source": [
    "#4. What are the two lines that must be present in your software in order to call logging.debug()?\n",
    "\n",
    "Ans. To be able to call logging.debug(), you must have these two lines at the start of your program:"
   ]
  },
  {
   "cell_type": "code",
   "execution_count": 5,
   "id": "5cea2764-0261-48a6-93b9-7ddb2a7ff049",
   "metadata": {},
   "outputs": [],
   "source": [
    "import logging\n",
    "logging.basicConfig(level=logging.DEBUG, format=' %(asctime)s -%(levelname)s - %(message)s')"
   ]
  },
  {
   "cell_type": "code",
   "execution_count": null,
   "id": "01892f0e-be37-40f5-94df-fc497a8838c5",
   "metadata": {},
   "outputs": [],
   "source": [
    "#5. What are the two lines that your program must have in order to have logging.debug() send a logging message to a file named programLog.txt?\n",
    "\n",
    "Ans.To be able to send logging messages to a file named programLog.txt with logging.debug(), you must have these two lines at the start of your program:"
   ]
  },
  {
   "cell_type": "code",
   "execution_count": null,
   "id": "2ece5b0b-39a8-4ffb-b9a1-a1316bbce41f",
   "metadata": {},
   "outputs": [],
   "source": [
    "import logging\n",
    "logging.basicConfig(filename='programLog.txt', level=logging.DEBUG, format=' %(asctime)s - %(levelname)s - %(message)s')\n"
   ]
  },
  {
   "cell_type": "code",
   "execution_count": null,
   "id": "dabeaaa3-764f-4ab0-80be-7ba05bbf70ab",
   "metadata": {},
   "outputs": [],
   "source": [
    "#6. What are the five levels of logging?\n",
    "\n",
    "Ans. DEBUG, INFO, WARNING, ERROR, and CRITICAL"
   ]
  },
  {
   "cell_type": "code",
   "execution_count": null,
   "id": "7b08d5de-dcc2-4497-b56b-785c3aaf41ac",
   "metadata": {},
   "outputs": [],
   "source": [
    "#7. What line of code would you add to your software to disable all logging messages?\n",
    "\n",
    "Ans. logging.disable(logging.CRITICAL)"
   ]
  },
  {
   "cell_type": "code",
   "execution_count": null,
   "id": "25f90dd2-6145-4fa3-a0a9-537d2e82e2b9",
   "metadata": {},
   "outputs": [],
   "source": [
    "#8. Why is using logging messages better than using print() to display the same message?\n",
    "\n",
    "Ans. You can disable logging messages without removing the logging function calls. \n",
    "You can selectively disable lower-level logging messages. You can create logging messages. Logging messages provides a timestamp."
   ]
  },
  {
   "cell_type": "code",
   "execution_count": null,
   "id": "455dd170-db95-4469-baca-751a3374432d",
   "metadata": {},
   "outputs": [],
   "source": [
    "#9. What are the differences between the Step Over, Step In, and Step Out buttons in the debugger?\n",
    "\n",
    "Ans. The Step button will move the debugger into a function call. \n",
    "The Over button will quickly execute the function call without stepping into it. The Out button will quickly execute the rest of the code until it steps out of the function it currently is in."
   ]
  },
  {
   "cell_type": "code",
   "execution_count": null,
   "id": "a1c146cd-7abe-49d5-b127-05854689a8c9",
   "metadata": {},
   "outputs": [],
   "source": [
    "#10. After you click Continue, when will the debugger stop ?\n",
    "\n",
    "Ans. After you click Continue, the debugger will stop when it has reached the end of the program or a line with a breakpoint."
   ]
  },
  {
   "cell_type": "code",
   "execution_count": null,
   "id": "1bef8262-d57b-4ed7-911c-1a5f7b71d543",
   "metadata": {},
   "outputs": [],
   "source": [
    "#11. What is the concept of a breakpoint?\n",
    "\n",
    "Ans. Breakpoint is a setting on a line of code that causes the debugger to pause when the program execution reaches the line."
   ]
  }
 ],
 "metadata": {
  "kernelspec": {
   "display_name": "Python 3 (ipykernel)",
   "language": "python",
   "name": "python3"
  },
  "language_info": {
   "codemirror_mode": {
    "name": "ipython",
    "version": 3
   },
   "file_extension": ".py",
   "mimetype": "text/x-python",
   "name": "python",
   "nbconvert_exporter": "python",
   "pygments_lexer": "ipython3",
   "version": "3.10.6"
  }
 },
 "nbformat": 4,
 "nbformat_minor": 5
}
